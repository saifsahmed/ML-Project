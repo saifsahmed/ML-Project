{
 "cells": [
  {
   "cell_type": "code",
   "execution_count": 64,
   "metadata": {
    "collapsed": true
   },
   "outputs": [],
   "source": [
    "import pandas as pd\n",
    "import numpy as np"
   ]
  },
  {
   "cell_type": "markdown",
   "metadata": {},
   "source": [
    "Creating an array of the column names "
   ]
  },
  {
   "cell_type": "code",
   "execution_count": 65,
   "metadata": {
    "collapsed": true
   },
   "outputs": [],
   "source": [
    "names = ['id', 'id_str','screen_name', 'location', 'description', 'url', 'followers_count', 'friends_count', 'listedcount','created_at','favourites_count','verified','statuses_count','lang','status','default_profile','default_profile_image','has_extended_profile','name','bot']"
   ]
  },
  {
   "cell_type": "markdown",
   "metadata": {},
   "source": [
    "Reading the bots and non bots data from the CSV files and combining them into one dataframe"
   ]
  },
  {
   "cell_type": "code",
   "execution_count": 66,
   "metadata": {
    "collapsed": false
   },
   "outputs": [],
   "source": [
    "df_bots = pd.read_csv('bots_data.csv',header=None,names=names,na_values='?',skiprows=1)\n",
    "df_nonbots = pd.read_csv('nonbots_data.csv',header=None,names=names,na_values='?',skiprows=1)\n",
    "frames = [df_bots, df_nonbots]\n",
    "df = pd.concat(frames)"
   ]
  },
  {
   "cell_type": "markdown",
   "metadata": {},
   "source": [
    "The codes that follow are used to extract certain features from the raw data obtained from the csv files."
   ]
  },
  {
   "cell_type": "markdown",
   "metadata": {},
   "source": [
    "The first feature that we are computing is the screen name length from the screen name column in the data"
   ]
  },
  {
   "cell_type": "code",
   "execution_count": 67,
   "metadata": {
    "collapsed": false
   },
   "outputs": [],
   "source": [
    "screen = list(df['screen_name'])\n",
    "screen_length = []\n",
    "for i in screen:\n",
    "    screen_length.append(len(i))\n",
    "df['screen_length'] = screen_length"
   ]
  },
  {
   "cell_type": "markdown",
   "metadata": {},
   "source": [
    "The second feature we are computing is the profile name length from the name colum in the data "
   ]
  },
  {
   "cell_type": "code",
   "execution_count": 68,
   "metadata": {
    "collapsed": true
   },
   "outputs": [],
   "source": [
    "names = list(df['name'])\n",
    "name_length = []\n",
    "for i in names:\n",
    "    name_length.append(len(i))\n",
    "df['name_length'] = name_length"
   ]
  },
  {
   "cell_type": "markdown",
   "metadata": {},
   "source": [
    "The third feature we are computing is the days since the account was created. We do this by creating a datetime \n",
    "object from the dates present in the created at column. The data contains various formats of data thus we need to\n",
    "handle each seperately."
   ]
  },
  {
   "cell_type": "code",
   "execution_count": 69,
   "metadata": {
    "collapsed": false
   },
   "outputs": [],
   "source": [
    "created_at = list(df['created_at'])\n",
    "dates = list(df['created_at'])\n",
    "number_days =[]\n",
    "from datetime import datetime\n",
    "\n",
    "datetime_object = datetime.strptime('Jun 1 2005  1:33PM', '%b %d %Y %I:%M%p')\n",
    "\n",
    "for i in dates:\n",
    "    if i[0] == '\"':\n",
    "        i = i[1:-1]\n",
    "    if i[-1] == '\"':\n",
    "        i = i[:-1]\n",
    "    now = datetime.now()\n",
    "    a = str(i.split(\" \")[0])\n",
    "    s1 = \"\"\n",
    "    #print a\n",
    "    if(a.find('/',0,len(a))==-1):\n",
    "        #s1.append(a.split(' ')[1],a.split(' ')[2],a.split(' '))\n",
    "        d1 = datetime.strptime(i,'%a %b %d %H:%M:%S +0000 %Y')\n",
    "        delta = now - d1\n",
    "        #print delta.days\n",
    "        number_days.append(delta.days)\n",
    "    else:\n",
    "        try:\n",
    "            d2 = datetime.strptime(i,'%d/%m/%Y %H:%M')\n",
    "            delta = now - d2\n",
    "            #print delta.days\n",
    "        except ValueError:\n",
    "            d2 = datetime.strptime(i,'%m/%d/%Y %H:%M')\n",
    "            delta = now - d2\n",
    "            #print delta.days\n",
    "        number_days.append(delta.days)\n",
    "#print number_days\n",
    "    #print i\n",
    "df['number_days'] = number_days"
   ]
  },
  {
   "cell_type": "markdown",
   "metadata": {},
   "source": [
    "The fourth feature we are computing is whether the account description contains the term \"bot\" in it. We store a value \n",
    "1 if the description contains the term bot and 0 otherwise"
   ]
  },
  {
   "cell_type": "code",
   "execution_count": 70,
   "metadata": {
    "collapsed": false
   },
   "outputs": [],
   "source": [
    "desc = df['description']\n",
    "flag = []\n",
    "for i in desc:\n",
    "    i = str(i)\n",
    "    #print i\n",
    "    if i.find(\"bot\")==-1:\n",
    "        #print 0\n",
    "        flag.append(0)\n",
    "    else:\n",
    "        #print 1\n",
    "        flag.append(1)\n",
    "df['desc_contains_bot']=flag"
   ]
  },
  {
   "cell_type": "markdown",
   "metadata": {},
   "source": [
    "The final dataframe we create has all the features that we will use in the classification model. The schema of this dataframe is as follows "
   ]
  },
  {
   "cell_type": "code",
   "execution_count": 71,
   "metadata": {
    "collapsed": false
   },
   "outputs": [
    {
     "data": {
      "text/plain": [
       "followers_count           int64\n",
       "friends_count             int64\n",
       "listedcount               int64\n",
       "favourites_count          int64\n",
       "verified                   bool\n",
       "statuses_count            int64\n",
       "default_profile            bool\n",
       "default_profile_image      bool\n",
       "has_extended_profile     object\n",
       "screen_length             int64\n",
       "name_length               int64\n",
       "number_days               int64\n",
       "desc_contains_bot         int64\n",
       "bot                       int64\n",
       "dtype: object"
      ]
     },
     "execution_count": 71,
     "metadata": {},
     "output_type": "execute_result"
    }
   ],
   "source": [
    "final = df[['followers_count','friends_count','listedcount','favourites_count','verified','statuses_count','default_profile','default_profile_image','has_extended_profile','screen_length','name_length','number_days','desc_contains_bot','bot']]\n",
    "final.dtypes"
   ]
  },
  {
   "cell_type": "markdown",
   "metadata": {},
   "source": [
    "From this dataframe we create the training (80%) and the testing (20%) sets."
   ]
  },
  {
   "cell_type": "code",
   "execution_count": 73,
   "metadata": {
    "collapsed": false,
    "scrolled": true
   },
   "outputs": [],
   "source": [
    "final= final.dropna()\n",
    "y = final['bot']\n",
    "X = final[['followers_count','friends_count','listedcount','favourites_count','verified','statuses_count','default_profile','default_profile_image','has_extended_profile','screen_length','name_length','number_days','desc_contains_bot']]\n",
    "\n",
    "from sklearn.model_selection import train_test_split\n",
    "train_features, test_features, train_label, test_label = train_test_split( X, y, test_size=0.2)"
   ]
  },
  {
   "cell_type": "markdown",
   "metadata": {},
   "source": [
    "The first classification model we are using is the Decision Tree Classifier. The accuracy of this model is also displayed. "
   ]
  },
  {
   "cell_type": "code",
   "execution_count": 112,
   "metadata": {
    "collapsed": false
   },
   "outputs": [
    {
     "name": "stdout",
     "output_type": "stream",
     "text": [
      "0.893271461717\n"
     ]
    }
   ],
   "source": [
    "from sklearn import tree\n",
    "clf = tree.DecisionTreeClassifier(min_samples_split=10, criterion='entropy', max_depth= 6)\n",
    "clf.fit(train_features, train_label)\n",
    "pred = clf.predict(test_features)\n",
    "from sklearn.metrics import accuracy_score\n",
    "print accuracy_score(test_label,lpred)"
   ]
  },
  {
   "cell_type": "markdown",
   "metadata": {},
   "source": [
    "We plot the roc curve of this model using the metrics module from sklearn"
   ]
  },
  {
   "cell_type": "code",
   "execution_count": 113,
   "metadata": {
    "collapsed": false
   },
   "outputs": [
    {
     "name": "stdout",
     "output_type": "stream",
     "text": [
      "('Precision Score: ', 0.89330139311577827)\n"
     ]
    },
    {
     "data": {
      "image/png": "[encoded data removed]",
      "text/plain": [
       "<matplotlib.figure.Figure at 0x113be4290>"
      ]
     },
     "metadata": {},
     "output_type": "display_data"
    }
   ],
   "source": [
    "from sklearn import metrics\n",
    "from sklearn.metrics import precision_score\n",
    "import matplotlib\n",
    "import matplotlib.pyplot as plt\n",
    "%matplotlib inline\n",
    "\n",
    "fpr, tpr, thresholds = metrics.roc_curve(test_label, pred,pos_label=1)\n",
    "metrics.auc(fpr,tpr)\n",
    "plt.xlabel('FPR',fontsize=15)\n",
    "plt.ylabel('TPR',fontsize=15)\n",
    "plt.plot(fpr,tpr)\n",
    "\n",
    "print(\"Precision Score: \", (precision_score(test_label,pred,average='weighted' )))"
   ]
  },
  {
   "cell_type": "markdown",
   "metadata": {},
   "source": [
    "One of the methods to improve the accuracy of the model is by using cross validation. Here we implement a 5 fold cross validation on the model and display the accuracy, precision and recall of the model"
   ]
  },
  {
   "cell_type": "code",
   "execution_count": 117,
   "metadata": {
    "collapsed": false,
    "scrolled": true
   },
   "outputs": [
    {
     "name": "stdout",
     "output_type": "stream",
     "text": [
      "0.893271461717\n",
      "[ 0.87962963  0.89791183  0.90719258  0.90465116  0.88139535]\n",
      "Accuracy: 0.89 (+/- 0.02)\n",
      "Precision: 0.88 (+/- 0.04)\n",
      "Recall: 0.89 (+/- 0.03)\n"
     ]
    },
    {
     "data": {
      "text/plain": [
       "array([[206,  21],\n",
       "       [ 25, 179]])"
      ]
     },
     "execution_count": 117,
     "metadata": {},
     "output_type": "execute_result"
    }
   ],
   "source": [
    "from sklearn.metrics import accuracy_score\n",
    "print accuracy_score(test_label,pred)\n",
    "from sklearn.model_selection import cross_val_score\n",
    "accuracy_scores = cross_val_score(clf, X, y, cv=5)\n",
    "print accuracy_scores\n",
    "print(\"Accuracy: %0.2f (+/- %0.2f)\" % (accuracy_scores.mean(), accuracy_scores.std() * 2))\n",
    "precision = cross_val_score(clf, X, y, cv=5, scoring='precision')\n",
    "print(\"Precision: %0.2f (+/- %0.2f)\" % (precision.mean(), precision.std() * 2))\n",
    "recall = cross_val_score(clf, X, y, cv=5, scoring='recall')\n",
    "print(\"Recall: %0.2f (+/- %0.2f)\" % (recall.mean(), recall.std() * 2))\n",
    "\n",
    "from sklearn.metrics import confusion_matrix\n",
    "confusion_matrix(test_label, pred)"
   ]
  },
  {
   "cell_type": "markdown",
   "metadata": {},
   "source": [
    "Here we display the classification report using sklearn metrics"
   ]
  },
  {
   "cell_type": "code",
   "execution_count": 119,
   "metadata": {
    "collapsed": false
   },
   "outputs": [
    {
     "name": "stdout",
     "output_type": "stream",
     "text": [
      "             precision    recall  f1-score   support\n",
      "\n",
      "        Bot       0.89      0.91      0.90       227\n",
      "    Not Bot       0.90      0.88      0.89       204\n",
      "\n",
      "avg / total       0.89      0.89      0.89       431\n",
      "\n"
     ]
    }
   ],
   "source": [
    "from sklearn.metrics import classification_report\n",
    "target_names = ['Bot', 'Not Bot']\n",
    "print(classification_report(test_label, pred, target_names=target_names))"
   ]
  },
  {
   "cell_type": "markdown",
   "metadata": {},
   "source": [
    "Here we plot the relative importance of the features as used by the model."
   ]
  },
  {
   "cell_type": "code",
   "execution_count": 115,
   "metadata": {
    "collapsed": false
   },
   "outputs": [
    {
     "name": "stdout",
     "output_type": "stream",
     "text": [
      "[ 0.02543221  0.1616164   0.02640837  0.06723423  0.05098168  0.07556157\n",
      "  0.          0.          0.          0.          0.00302352  0.58665002\n",
      "  0.00309201]\n"
     ]
    },
    {
     "data": {
      "text/plain": [
       "<matplotlib.text.Text at 0x113b57310>"
      ]
     },
     "execution_count": 115,
     "metadata": {},
     "output_type": "execute_result"
    },
    {
     "data": {
      "image/png": "[encoded data removed]",
      "text/plain": [
       "<matplotlib.figure.Figure at 0x11320e510>"
      ]
     },
     "metadata": {},
     "output_type": "display_data"
    }
   ],
   "source": [
    "import matplotlib.pyplot as plt\n",
    "%matplotlib inline\n",
    "col_names = ['followers_count','friends_count','listedcount','favourites_count','verified','statuses_count','default_profile','default_profile_image','has_extended_profile','screen_length','name_length','number_days','desc_contains_bot']\n",
    "\n",
    "a = [i for i,_ in enumerate(col_names[:])]\n",
    "b = clf.feature_importances_\n",
    "print b\n",
    "\n",
    "plt.axis([0,13,0,.6])\n",
    "plt.bar(a, b,width = .75)\n",
    "plt.xticks(a,col_names[:],rotation = 90)\n",
    "plt.xlabel('Feature Names') \n",
    "plt.ylabel('Feature Importance')"
   ]
  },
  {
   "cell_type": "markdown",
   "metadata": {},
   "source": [
    "Here we are trying to gauge which parameters of the model give us the best results in terms of accuracy. We used grid search method from sklearn to do this. By specifying the range of parameters of the model grid search creates all permutations of parameters for this model and returns us the set of parameters which give the best results."
   ]
  },
  {
   "cell_type": "code",
   "execution_count": 116,
   "metadata": {
    "collapsed": false
   },
   "outputs": [
    {
     "name": "stdout",
     "output_type": "stream",
     "text": [
      "{'min_samples_split': 10, 'criterion': 'gini', 'max_depth': 7}\n"
     ]
    }
   ],
   "source": [
    "from sklearn import grid_search\n",
    "parameters = {'max_depth': range(1,30,1),\n",
    "'min_samples_split' : range(10,500,10),\n",
    "'criterion': ('entropy','gini')}\n",
    "from sklearn import tree\n",
    "tree = tree.DecisionTreeClassifier()\n",
    "clf = grid_search.GridSearchCV(tree, parameters)\n",
    "clf.fit(train_features, train_label)\n",
    "print clf.best_params_"
   ]
  },
  {
   "cell_type": "markdown",
   "metadata": {},
   "source": [
    "The second classifier that we are using is Random Forest. We use sklearn to implement this model \n",
    "and display the accuracy."
   ]
  },
  {
   "cell_type": "code",
   "execution_count": 120,
   "metadata": {
    "collapsed": false
   },
   "outputs": [
    {
     "name": "stdout",
     "output_type": "stream",
     "text": [
      "0.916473317865\n"
     ]
    }
   ],
   "source": [
    "from sklearn.ensemble import RandomForestClassifier\n",
    "clf = RandomForestClassifier(n_estimators=700)\n",
    "clf.fit(train_features, train_label)\n",
    "pred = clf.predict(test_features)\n",
    "from sklearn.metrics import accuracy_score\n",
    "print accuracy_score(test_label,pred)"
   ]
  },
  {
   "cell_type": "markdown",
   "metadata": {},
   "source": [
    "Here we display the classification report using sklearn metrics"
   ]
  },
  {
   "cell_type": "code",
   "execution_count": 121,
   "metadata": {
    "collapsed": false
   },
   "outputs": [
    {
     "name": "stdout",
     "output_type": "stream",
     "text": [
      "             precision    recall  f1-score   support\n",
      "\n",
      "        Bot       0.91      0.93      0.92       227\n",
      "    Not Bot       0.92      0.90      0.91       204\n",
      "\n",
      "avg / total       0.92      0.92      0.92       431\n",
      "\n"
     ]
    }
   ],
   "source": [
    "from sklearn.metrics import classification_report\n",
    "target_names = ['Bot', 'Not Bot']\n",
    "print(classification_report(test_label, pred, target_names=target_names))"
   ]
  },
  {
   "cell_type": "markdown",
   "metadata": {},
   "source": [
    "We plot the roc curve of this model using the metrics module from sklearn"
   ]
  },
  {
   "cell_type": "code",
   "execution_count": 100,
   "metadata": {
    "collapsed": false
   },
   "outputs": [
    {
     "name": "stdout",
     "output_type": "stream",
     "text": [
      "('Precision Score: ', 0.90259459025120292)\n"
     ]
    },
    {
     "data": {
      "image/png": "[encoded data removed]",
      "text/plain": [
       "<matplotlib.figure.Figure at 0x113a1b650>"
      ]
     },
     "metadata": {},
     "output_type": "display_data"
    }
   ],
   "source": [
    "from sklearn import metrics\n",
    "from sklearn.metrics import precision_score\n",
    "import matplotlib\n",
    "import matplotlib.pyplot as plt\n",
    "%matplotlib inline\n",
    "\n",
    "fpr, tpr, thresholds = metrics.roc_curve(test_label, pred,pos_label=1)\n",
    "metrics.auc(fpr,tpr)\n",
    "plt.xlabel('FPR',fontsize=15)\n",
    "plt.ylabel('TPR',fontsize=15)\n",
    "plt.plot(fpr,tpr)\n",
    "\n",
    "print(\"Precision Score: \", (precision_score(test_label,pred,average='weighted' )))"
   ]
  },
  {
   "cell_type": "markdown",
   "metadata": {},
   "source": [
    "One of the methods to improve the accuracy of the model is by using cross validation. Here we implement a 5 fold cross validation on the model and display the accuracy, precision and recall of the model"
   ]
  },
  {
   "cell_type": "code",
   "execution_count": 90,
   "metadata": {
    "collapsed": false
   },
   "outputs": [
    {
     "name": "stdout",
     "output_type": "stream",
     "text": [
      "0.91879350348\n",
      "[ 0.90046296  0.89791183  0.93735499  0.90232558  0.93488372]\n",
      "Accuracy: 0.91 (+/- 0.04)\n",
      "Precision: 0.91 (+/- 0.04)\n",
      "Recall: 0.91 (+/- 0.05)\n"
     ]
    }
   ],
   "source": [
    "from sklearn.metrics import accuracy_score\n",
    "print accuracy_score(test_label,pred)\n",
    "from sklearn.model_selection import cross_val_score\n",
    "accuracy_scores = cross_val_score(clf, X, y, cv=5)\n",
    "print accuracy_scores\n",
    "print(\"Accuracy: %0.2f (+/- %0.2f)\" % (accuracy_scores.mean(), accuracy_scores.std() * 2))\n",
    "precision = cross_val_score(clf, X, y, cv=5, scoring='precision')\n",
    "print(\"Precision: %0.2f (+/- %0.2f)\" % (precision.mean(), precision.std() * 2))\n",
    "recall = cross_val_score(clf, X, y, cv=5, scoring='recall')\n",
    "print(\"Recall: %0.2f (+/- %0.2f)\" % (recall.mean(), recall.std() * 2))"
   ]
  },
  {
   "cell_type": "markdown",
   "metadata": {},
   "source": [
    "Here we plot the relative importance of the features as used by the model."
   ]
  },
  {
   "cell_type": "code",
   "execution_count": 92,
   "metadata": {
    "collapsed": false
   },
   "outputs": [
    {
     "name": "stdout",
     "output_type": "stream",
     "text": [
      "[ 0.09358618  0.15959749  0.06420263  0.10790414  0.07183277  0.07544089\n",
      "  0.02661347  0.00253549  0.01418594  0.02401358  0.02931617  0.30693762\n",
      "  0.02383363]\n"
     ]
    },
    {
     "data": {
      "text/plain": [
       "<matplotlib.text.Text at 0x11412b890>"
      ]
     },
     "execution_count": 92,
     "metadata": {},
     "output_type": "execute_result"
    },
    {
     "data": {
      "image/png": "[encoded data removed]",
      "text/plain": [
       "<matplotlib.figure.Figure at 0x113251d50>"
      ]
     },
     "metadata": {},
     "output_type": "display_data"
    }
   ],
   "source": [
    "import matplotlib.pyplot as plt\n",
    "%matplotlib inline\n",
    "col_names = ['followers_count','friends_count','listedcount','favourites_count','verified','statuses_count','default_profile','default_profile_image','has_extended_profile','screen_length','name_length','number_days','desc_contains_bot']\n",
    "\n",
    "a = [i for i,_ in enumerate(col_names[:])]\n",
    "b = clf.feature_importances_\n",
    "print b\n",
    "\n",
    "plt.axis([0,13,0,.3])\n",
    "plt.bar(a, b,width = .75)\n",
    "plt.xticks(a,col_names[:],rotation = 90)\n",
    "plt.xlabel('Feature Names') \n",
    "plt.ylabel('Feature Importance')"
   ]
  },
  {
   "cell_type": "markdown",
   "metadata": {},
   "source": [
    "Here we are trying to gauge which parameters of the model give us the best results in terms of accuracy. We used grid search method from sklearn to do this. By specifying the range of parameters of the model grid search creates all permutations of parameters for this model and returns us the set of parameters which give the best results"
   ]
  },
  {
   "cell_type": "code",
   "execution_count": 34,
   "metadata": {
    "collapsed": false
   },
   "outputs": [
    {
     "name": "stdout",
     "output_type": "stream",
     "text": [
      "{'max_features': 'auto', 'n_estimators': 700, 'max_depth': None}\n"
     ]
    }
   ],
   "source": [
    "param_grid = {'max_depth' : [None, 10,20,30,40,50],\n",
    "              'n_estimators' :[100,200,300,400,500,600,700,800,900,1000]}\n",
    "from sklearn import grid_search\n",
    "from sklearn.ensemble import RandomForestClassifier\n",
    "forest = RandomForestClassifier()\n",
    "clf = grid_search.GridSearchCV(forest, param_grid)\n",
    "clf.fit(train_features, train_label)\n",
    "print clf.best_params_"
   ]
  },
  {
   "cell_type": "markdown",
   "metadata": {},
   "source": [
    "The rest of the code contains different models that we tried to use for classification. Some of them give good results and we may use them for the final phase of project. Some of them do not give us good results based on the set of features we selected. "
   ]
  },
  {
   "cell_type": "code",
   "execution_count": 35,
   "metadata": {
    "collapsed": false
   },
   "outputs": [
    {
     "name": "stdout",
     "output_type": "stream",
     "text": [
      "0.916473317865\n"
     ]
    }
   ],
   "source": [
    "# For future implementation \n",
    "# We may consider using this algorithm for the final phase of the project\n",
    "from sklearn.ensemble import AdaBoostClassifier\n",
    "clf = AdaBoostClassifier(n_estimators=100)\n",
    "clf.fit(train_features, train_label)\n",
    "pred = clf.predict(test_features)\n",
    "from sklearn.metrics import accuracy_score\n",
    "print accuracy_score(test_label,pred)"
   ]
  },
  {
   "cell_type": "code",
   "execution_count": 36,
   "metadata": {
    "collapsed": false
   },
   "outputs": [
    {
     "name": "stdout",
     "output_type": "stream",
     "text": [
      "[ 0.11  0.23  0.11  0.08  0.02  0.2   0.    0.    0.02  0.01  0.03  0.16\n",
      "  0.03]\n"
     ]
    },
    {
     "data": {
      "text/plain": [
       "<matplotlib.text.Text at 0x11225e7d0>"
      ]
     },
     "execution_count": 36,
     "metadata": {},
     "output_type": "execute_result"
    },
    {
     "data": {
      "image/png": "[encoded data removed]",
      "text/plain": [
       "<matplotlib.figure.Figure at 0x11221a350>"
      ]
     },
     "metadata": {},
     "output_type": "display_data"
    }
   ],
   "source": [
    "import matplotlib.pyplot as plt\n",
    "%matplotlib inline\n",
    "col_names = ['followers_count','friends_count','listedcount','favourites_count','verified','statuses_count','default_profile','default_profile_image','has_extended_profile','screen_length','name_length','number_days','desc_contains_bot']\n",
    "\n",
    "a = [i for i,_ in enumerate(col_names[:])]\n",
    "b = clf.feature_importances_\n",
    "print b\n",
    "\n",
    "plt.axis([0,13,0,.2])\n",
    "plt.bar(a, b,width = .75)\n",
    "plt.xticks(a,col_names[:],rotation = 90)\n",
    "plt.xlabel('Feature Names') \n",
    "plt.ylabel('Feature Importance')"
   ]
  },
  {
   "cell_type": "code",
   "execution_count": 37,
   "metadata": {
    "collapsed": false
   },
   "outputs": [
    {
     "name": "stdout",
     "output_type": "stream",
     "text": [
      "0.60788863109\n"
     ]
    }
   ],
   "source": [
    "# Inefficient Algorithms - \n",
    "#Implemetation of algorithms that did not give us satisfactory accuracy using our set of features from sklearn import linear_model, datasets\n",
    "#logreg = linear_model.LogisticRegression(C=1e5)\n",
    "#logreg.fit(train_features, train_label)\n",
    "#pred = logreg.predict(test_features)\n",
    "#from sklearn.metrics import accuracy_score\n",
    "#print accuracy_score(test_label,pred)"
   ]
  },
  {
   "cell_type": "code",
   "execution_count": 38,
   "metadata": {
    "collapsed": false
   },
   "outputs": [
    {
     "name": "stdout",
     "output_type": "stream",
     "text": [
      "0.735498839907\n"
     ]
    }
   ],
   "source": [
    "# Inefficient Algorithms - \n",
    "#Implemetation of algorithms that did not give us satisfactory accuracy using our set of features \n",
    "#from sklearn.neural_network import MLPClassifier\n",
    "#clf = MLPClassifier(solver='lbfgs', alpha=1e-5, hidden_layer_sizes=(5, 2), random_state=1)\n",
    "#clf.fit(train_features, train_label)\n",
    "#pred = clf.predict(test_features)\n",
    "#from sklearn.metrics import accuracy_score\n",
    "#print accuracy_score(test_label,pred)"
   ]
  },
  {
   "cell_type": "code",
   "execution_count": 60,
   "metadata": {
    "collapsed": true
   },
   "outputs": [],
   "source": [
    "# Inefficient Algorithms - \n",
    "#Implemetation of algorithms that did not give us satisfactory accuracy using our set of features \n",
    "#from sklearn import svm\n",
    "#clf = svm.SVC()\n",
    "#clf.fit(train_features, train_label)\n",
    "#pred = clf.predict(test_features)\n",
    "#from sklearn.metrics import accuracy_score\n",
    "#print accuracy_score(test_label,pred)"
   ]
  },
  {
   "cell_type": "code",
   "execution_count": 61,
   "metadata": {
    "collapsed": true
   },
   "outputs": [],
   "source": [
    "# Inefficient Algorithms - \n",
    "#Implemetation of algorithms that did not give us satisfactory accuracy using our set of features \n",
    "#from sklearn.naive_bayes import BernoulliNB\n",
    "#clf = BernoulliNB()\n",
    "#clf.fit(train_features, train_label)\n",
    "#pred = clf.predict(test_features)\n",
    "#from sklearn.metrics import accuracy_score\n",
    "#print accuracy_score(test_label,pred"
   ]
  }
 ],
 "metadata": {
  "kernelspec": {
   "display_name": "Python 2",
   "language": "python",
   "name": "python2"
  },
  "language_info": {
   "codemirror_mode": {
    "name": "ipython",
    "version": 2
   },
   "file_extension": ".py",
   "mimetype": "text/x-python",
   "name": "python",
   "nbconvert_exporter": "python",
   "pygments_lexer": "ipython2",
   "version": "2.7.13"
  }
 },
 "nbformat": 4,
 "nbformat_minor": 2
}
