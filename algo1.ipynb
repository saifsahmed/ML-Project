{
 "cells": [
  {
   "cell_type": "code",
   "execution_count": 68,
   "metadata": {
    "collapsed": true
   },
   "outputs": [],
   "source": [
    "import pandas as pd\n",
    "import numpy as np"
   ]
  },
  {
   "cell_type": "code",
   "execution_count": 69,
   "metadata": {
    "collapsed": true
   },
   "outputs": [],
   "source": [
    "names = ['id', 'id_str','screen_name', 'location', 'description', 'url', 'followers_count', 'friends_count', 'listedcount','created_at','favourites_count','verified','statuses_count','lang','status','default_profile','default_profile_image','has_extended_profile','name','bot']"
   ]
  },
  {
   "cell_type": "code",
   "execution_count": 70,
   "metadata": {
    "collapsed": false
   },
   "outputs": [],
   "source": [
    "df_bots = pd.read_csv('bots_data.csv',header=None,names=names,na_values='?',skiprows=1)"
   ]
  },
  {
   "cell_type": "code",
   "execution_count": 71,
   "metadata": {
    "collapsed": true
   },
   "outputs": [],
   "source": [
    "df_nonbots = pd.read_csv('nonbots_data.csv',header=None,names=names,na_values='?',skiprows=1)"
   ]
  },
  {
   "cell_type": "code",
   "execution_count": 72,
   "metadata": {
    "collapsed": true
   },
   "outputs": [],
   "source": [
    "frames = [df_bots, df_nonbots]\n",
    "df = pd.concat(frames)"
   ]
  },
  {
   "cell_type": "code",
   "execution_count": 73,
   "metadata": {
    "collapsed": false
   },
   "outputs": [],
   "source": [
    "screen = list(df['screen_name'])"
   ]
  },
  {
   "cell_type": "code",
   "execution_count": 74,
   "metadata": {
    "collapsed": false
   },
   "outputs": [],
   "source": [
    "screen_length = []\n",
    "for i in screen:\n",
    "    screen_length.append(len(i))"
   ]
  },
  {
   "cell_type": "code",
   "execution_count": 75,
   "metadata": {
    "collapsed": true
   },
   "outputs": [],
   "source": [
    "df['screen_length'] = screen_length"
   ]
  },
  {
   "cell_type": "code",
   "execution_count": 76,
   "metadata": {
    "collapsed": true
   },
   "outputs": [],
   "source": [
    "names = list(df['name'])"
   ]
  },
  {
   "cell_type": "code",
   "execution_count": 77,
   "metadata": {
    "collapsed": false
   },
   "outputs": [],
   "source": [
    "name_length = []\n",
    "for i in names:\n",
    "    name_length.append(len(i))"
   ]
  },
  {
   "cell_type": "code",
   "execution_count": 78,
   "metadata": {
    "collapsed": true
   },
   "outputs": [],
   "source": [
    "df['name_length'] = name_length"
   ]
  },
  {
   "cell_type": "code",
   "execution_count": 79,
   "metadata": {
    "collapsed": false
   },
   "outputs": [],
   "source": [
    "created_at = list(df['created_at'])"
   ]
  },
  {
   "cell_type": "code",
   "execution_count": 80,
   "metadata": {
    "collapsed": false
   },
   "outputs": [
    {
     "name": "stdout",
     "output_type": "stream",
     "text": [
      "[538, 25, 956, 678, 685, 154, 84, 1009, 48, 70, 1229, 872, 65, 1046, 473, 26, 1333, 669, 1035, 27, 1718, 994, 430, 1021, 2508, 1749, 653, 1236, 1215, 882, 364, 1022, 435, 131, 829, 877, 560, 131, -25, 904, 75, 26, 1228, 901, 45, 1286, 280, 376, 221, 1120, 153, 823, 144, 432, 330, 1240, 919, 959, 71, -55, 651, 401, 1047, 621, 2078, 131, 1640, 1095, 1228, 1294, 131, 1029, 1042, 944, 991, 25, 1074, 880, 1003, -239, 867, 1423, 1258, 766, 215, 784, 155, 662, 27, 220, 2406, 823, 296, 868, 1136, 1137, 2003, 929, 142, 1058, 2385, 372, 1541, 2312, 2467, 930, 2060, 430, 886, 1264, 1063, 647, 1133, 1011, 1103, 290, 313, 1104, 46, 511, 2949, 1261, 1819, 760, 190, 2878, 1504, 26, 1094, 160, 2874, 1286, 26, 1215, 461, 105, 777, 260, 276, 1296, 550, 1322, 51, 1002, 768, 393, 1319, 912, 601, 791, 71, 1812, 976, 794, 897, 998, 815, 997, 1942, 160, 1211, 361, 1234, 3665, 978, 71, 2195, 771, 152, 828, 219, 817, 675, 1004, 88, 1699, 1095, 2618, 828, 26, 26, 50, 188, 682, 59, 692, 812, 762, 2354, 1107, 1022, 742, 940, 1232, 26, 1264, 880, 75, 193, 1003, 1834, 157, 291, 683, 160, 1006, 1133, 1041, 86, 1185, 131, 1017, 142, 131, 873, 1998, 696, 300, 1229, 190, 1257, 797, 108, 909, 26, 52, 965, 156, 735, 3216, 706, 2905, 150, 25, 1095, 2268, 27, 113, 1216, 827, 1178, 1278, 828, 27, 942, 741, 196, 49, 111, 853, 921, 1588, 1027, 945, 594, 911, 1076, 874, 78, 1255, 1306, 518, 1256, 878, 820, 1162, 1187, 1236, 650, 131, 48, 238, 2733, 998, 1035, 699, 1035, 1227, 2215, 71, 1142, 1038, 796, 267, 1189, 600, 1167, 401, 246, 548, 244, 951, 1039, 452, 1476, 880, 885, 177, 746, 63, 1010, 2925, 26, 1020, 1134, 1119, 457, 782, 942, 1198, 990, 781, 556, 196, 1195, 26, 1498, 2146, 1138, 428, 163, 160, 72, 959, 429, 253, 957, 702, 972, -149, 1281, 651, 1006, 3327, 511, 1120, 1787, 342, 865, 1388, 2963, 1235, 965, 2842, 1288, 26, 26, 68, 788, 682, 1019, 2968, 145, 2927, 1261, 940, 876, 828, 71, 131, 1277, 1245, 651, 71, 30, 529, 175, 1692, 1114, 133, 79, 894, 1027, 1072, 1100, 720, 1188, 972, 776, 668, 25, 267, 160, 2313, 393, 133, 219, 827, 800, 1002, 1143, 858, 1004, 1224, 990, 2172, 2782, 605, 451, 645, 2273, 29, 1094, 2559, 360, 432, -57, 421, 2873, 649, 666, 26, 671, 1287, 497, 133, 1040, 1137, 272, 211, 1306, 385, 774, 831, 2717, 1280, 201, 448, 2128, 724, 50, 133, 1077, 1646, 1211, 62, 188, 66, 128, 1035, 1181, 75, 1004, 874, 1003, 708, 328, 827, 828, 833, 314, 1057, 1233, 1001, 361, 188, 102, 680, 26, 838, 424, 812, 26, 430, 377, 371, 68, 832, 1706, 827, 1035, 455, 26, 2422, 1056, 1291, 282, 516, 25, 630, 1058, 902, 909, 1220, 94, 377, 907, 696, 36, 564, 696, 27, 156, 1095, 160, 370, 828, 785, 28, 871, 921, 58, 150, 245, 1138, 65, 613, 1444, 927, 924, 1287, 1174, 700, 26, 1098, 1191, 223, 993, 471, 1100, 997, 372, 684, 798, 2076, 946, 1099, 857, 828, 160, 1153, 1027, 1077, 542, 223, 1138, 662, 940, 2961, 833, 188, 96, 89, 432, 912, 528, 969, 1234, 2385, 29, -178, 71, 271, 2716, 289, 2775, 68, 152, 432, 111, 361, 657, 1136, 1286, 1160, 917, 312, 930, 591, 456, 401, 1230, 459, 223, 598, 1506, 25, 846, 74, 1722, 69, 821, 2813, 87, 1171, 553, 1141, 2956, 1492, 756, 349, 1654, 62, 772, 399, 936, 1507, 699, 1136, 652, 276, 2243, 1808, 1906, 1145, 27, 740, 617, 193, 287, 2584, 1552, 119, 677, 25, 1300, 141, 1096, 655, 333, 526, 1809, 1241, 1801, 102, 771, 1001, 716, 468, 1340, 1109, 295, 682, 1014, 2796, 858, 92, 128, 918, 457, 975, 1121, 1270, 1134, 79, 1022, 2701, 702, 879, 690, 1337, 940, 1049, 29, 160, 70, 632, 490, 64, 1233, 409, 128, 488, 1047, 3053, 849, 1014, 774, 796, 2769, 172, 633, 193, 780, 103, 1514, 627, 1212, 679, 71, 931, 419, 282, 298, 1046, 837, 1594, 506, 678, 2931, 323, 778, 1086, 1029, 873, 1210, 881, 409, 1192, 44, 828, 130, 381, 475, 156, 1174, 157, 415, 1566, 935, 2831, 780, 430, 593, 1643, 425, 2630, 1265, 1035, 1008, 2424, 1054, 25, 201, 568, 991, 1100, 26, 527, 702, 792, 1549, 1049, 770, 211, 28, 71, 71, 902, 438, 696, 696, 303, 827, 2438, 146, 26, 827, 2970, 1105, 244, 1021, 1202, 653, 430, 871, 762, 395, 431, 1092, 102, 71, 27, 1134, 30, 254, 828, 562, 687, 649, 124, 1136, 266, 2290, 301, 812, 526, 2572, 67, 1054, 1855, 57, 1052, 2534, 187, 1283, 1560, 886, 202, 75, 188, 719, 576, 95, 414, 26, 1023, 1177, 25, 870, 26, 372, 133, 1559, 1280, 133, 828, 1673, 163, 1015, 1305, 1003, 45, 534, 1218, 71, 51, 605, 129, 258, 1035, 1094, 446, 649, 1029, 797, 1054, 2644, 828, 64, 1069, 87, 147, 140, 830, 728, 2087, 3417, 1100, 936, 636, 113, 1028, 242, 1052, 670, 149, 1259, 1190, 1555, 1227, 526, 674, 932, 872, 1071, 907, 798, 862, 1734, 1643, 154, 827, 1138, 320, 750, 462, 344, 365, 483, 58, 622, 237, 371, 955, 605, 1294, 1345, 246, 1031, 153, 888, 786, 394, 1206, 991, 166, 932, 74, 1149, 73, 997, 690, 957, 1138, 827, 1029, 936, 27, 71, 952, 132, 351, -23, 67, 65, 1203, 766, 937, 44, 933, 430, 1101, 282, 643, 215, 782, 256, 2378, 1231, 1399, 282, 56, 175, 194, -209, 875, 260, 222, 908, 105, 906, 380, 176, 498, 918, 101, 59, 933, 1010, 1004, 1125, 1561, 71, 911, 282, 663, 2079, 973, 404, 26, 1293, 25, 915, 229, 371, 308, 237, 585, 1250, 828, 904, 407, 523, 973, 1095, 1162, 1169, 1027, 580, 462, 722, 886, 1318, 436, 105, 1005, 1226, 589, 2292, 2402, 566, 1502, 52, 315, 646, 1107, 431, 151, 475, 1183, 873, 27, 1364, 456, 305, 33, 1035, 802, 1020, 71, 25, 380, 315, 1636, 809, 815, 1908, 620, 972, 146, 1047, 465, 1075, 1615, 26, 1411, 1125, 282, 1222, 2739, 1052, 996, 78, 1095, 445, 1095, 922, 776, 699, 840, 1061, 1006, 949, 432, 253, 641, 47, 1189, 67, 919, 526, 145, 188, 54, 80, 28, 203, 2336, 867, 256, 682, 290, 1011, 1122, 105, 2906, 3661, 2826, 2929, 1820, 557, 1388, 1477, 2985, 2024, 564, 3259, 1772, 3229, 1387, 2897, 1409, 3144, 3032, 2019, 3397, 2287, 311, 143, 2982, 2295, 2947, 2935, 1913, 2996, 2440, 2834, 2889, 3274, 2278, 2169, 3624, 1668, 836, -87, 3034, 267, 2831, 3015, 2238, 2925, 1592, 2822, 3306, 1649, 2919, 3043, 1029, 1075, 3246, 2993, 2310, 2812, 2783, 2438, 638, 53, 2230, 2161, 2920, 1549, 2962, 2880, 2936, 2748, 2784, 382, 3397, 3011, 631, 2800, 1761, 2645, 2012, 3236, 3009, 1995, 2831, 3128, 1169, 597, 1719, 2862, 2836, 2967, 1656, 137, 2325, 3004, 2114, 2850, 647, 2550, 2978, 3108, 2069, 2920, 2848, 2954, 1403, 2667, 1245, 3513, 2691, 2843, 2930, 2412, 2193, 2251, 2438, 2847, 2830, 1531, 342, 199, 2928, 2941, 2957, 2908, 2546, 511, 2684, 2942, 2993, 2557, 3300, 2927, 1015, 1900, 2938, 3010, 3657, 1454, 1406, 2943, 2296, 3635, 2312, 2922, 3396, 2951, 2892, 6, 2682, 2944, 415, 2834, 1353, -56, 2581, 2774, 3609, 3033, 2413, 3063, 3242, 1440, 2436, 207, 2846, 2879, 201, 2836, 3135, 380, 3078, 2157, 446, 2853, 739, 1872, 2950, 671, 2925, 1346, 806, 3163, 3309, 2232, 1373, 2934, 955, 1081, 3129, 1808, 3019, 2905, 2704, 2156, 2967, 3138, 3006, 3055, 3716, 3209, 2346, 32, 3348, 2338, 1267, 2652, 477, 2779, 2645, 2948, 3107, 2895, 1981, 3003, 2937, 1117, 2713, 30, 2011, 2838, 2843, 2676, 1707, 2159, 2927, 300, 1259, 2960, 2842, 1240, 2954, 2944, 2183, 2827, 2760, 2820, 2601, 2878, 3231, 2975, 2926, 2819, 3130, 2902, 1898, 2300, 2974, 2688, 2937, 2962, 1968, 2893, 2735, 1954, 2928, 2832, 2891, 2656, -179, 2291, 2929, 2168, 2983, 27, 2724, 3227, 1970, 980, 3056, 3680, 2656, 2980, 422, 2757, 2767, 295, 2605, 3074, 183, 2914, 577, 2089, 3661, 1680, 1122, 3053, 3376, 2794, 954, 3658, 2653, 2375, 3101, 2514, 3898, 1555, 3312, 1770, 2190, 1954, 3204, 2078, 3025, 2550, 2848, 2892, 2599, 2461, 2936, 2997, 2689, 29, 117, 2116, 3013, 36, 2916, 2782, 2804, 2549, 2972, 3189, 2865, 52, 2513, 1797, 911, 2805, 504, 1459, 2284, 1532, 1996, 2805, 2005, 3036, 2741, 106, 2916, 3435, 1673, 804, 2517, 750, 3330, 25, 2838, 2744, 3094, 2849, 3168, 3040, 3118, 2590, 2426, 3680, 2857, 2507, 1055, 1653, 932, 1679, 2041, 2479, 2736, 2489, 2380, 3665, 2711, 3024, 1714, 2356, 465, 1887, 2114, 3270, 652, 2588, 2622, 2611, 2970, 1600, 1353, 3794, 1678, 2563, -86, 2894, 1323, 3608, 2954, 2301, 2370, 2895, 2878, 1009, 2913, 2553, 1107, 2848, 2935, 2257, 763, 2752, 3161, 2955, 1009, 3288, 69, 2530, 2881, 3677, 2986, 2699, 156, 3006, 2393, 2942, 3314, 2779, 2830, 1980, 3038, 2369, -84, 1221, 1114, 2039, 2198, 2971, 78, 1880, 2834, 1829, 3454, 2246, 2949, 2038, 1835, 2634, 3704, 1051, 1385, 1406, 1698, 2930, 2926, 1396, 2796, 2947, 1795, 2499, 2836, 2881, 36, 2915, 1312, 1855, 1964, 2914, 1372, 2851, 2838, 2999, 1440, 3665, 2463, 2418, 2266, 37, 2928, 2227, 3032, 2416, 2843, 2822, 2902, 2005, 1204, 2335, 3673, 2683, 2732, 914, 2742, 2929, 2906, 1224, 2866, 1775, 3091, 2929, 2671, 1904, 3183, 2948, 2548, 2782, 1975, 1341, 2977, 1626, 2651, 3638, 464, 2507, 1824, 2294, 2866, 2740, 2010, 2945, 1527, 2901, 2932, 1287, 1061, 1676, 2950, 1041, 1455, 2445, 1921, 1106, 2633, 3270, 3223, 2951, 1535, 3061, 2173, 2585, 2306, 2975, 2734, 2460, 3538, 2805, 2275, 2976, 3763, 490, 2907, 2914, 3166, 1634, 2359, 2972, 2790, 2983, 2903, 2838, 2270, 2283, 2586, 3040, 2965, 942, 1965, 2971, 2943, 2280, 2609, 2924, 2479, 119, 944, 2605, 688, 1706, 3045, 2843, 2823, 2867, 1943, 2337, 1047, 500, 2992, 3279, 2939, 2104, 2786, 2661, 2941, 3314, 3197, 2745, 3016, 33, 2889, 2882, 2283, 3242, 2460, 2243, 2216, 1214, 2046, 2729, 2273, 3137, 2544, 3133, 2961, 608, 2934, 2968, 2919, 2381, 1870, 2767, 1301, 2967, 2292, 454, 2522, 2913, 2519, 2240, 2839, 2353, 2573, 2654, 2938, 2906, 227, 2938, 2755, 2774, 2748, 2963, 1606, 2342, 2955, 2592, 2383, 2893, 2336, 3733, 2887, 2912, 2475, 3717, 2997, 192, 3036, 2965, 2262, 2992, 1509, 1639, 2805, 3164, 2669, 2341, 465, 3407, 2966, 2932, 2222, 1711, 2885, 2927, 2212, 390, 1787, 2906, 2824, 3273, 887, 2747, 3032, 3119, 2612, 2761, 3173, 3042, 2844, 2825, 1981, 204, 2925, 3663, 64, 2986, 2326, 2423, 3094, 327, 2929, 3013, 888, 2884, 3124, 49, 3305, 502, 3242, 2942, 2803, 3295, 2982, 778, 3686, 2892, 2969, 2844, 2278, 1134, 765, 1953, 2999, 1037, 2809, 3247, 1052, 2921, 2770, 2845, 2137, 2459, 871, 2866, 2650, 1612, 3041, 495, 2750, 2770, 2161, 1501, 2043, 2968, 2035, 1633, 3062, 3277, 2828, 2743, 959, 2916, 2382, 2234, 2908, 2899, 2952, 1904, 202, 3036, 1251, 2577, 2255, 2637, 2875, 3186, 2829, 2858, 1416, 2785, 3375, 2954, 1578, 2947, 210, 2747, 1770, 1569, 385, 2982, 841, 2893, 1584, 2959, 3009, 2942, 2159, 2989, 2719, 2905, 2783, 2379, 2932, 2265, 2894, 2986, 2991, 2100, 1268, 2812, 2994, 3567, 2733, 2975, 1536, 1102, 2752, 2952, 2543, 1556, 2972, 390, 75, 413, 3213, 2296, 3085, 3599, 2941, 1937, 2814, 1647, 963, 1533, 2793, 2725, 3173, 2986, 2870, 1346, 2563, 2782, 2953, 3236, 2268, 2219, 2937, 1110, 1809, 43, 2007, 2806, 2751, 1953, 2824, 72, 2991, 2123, 2740, 3442, 1621, 2846, 302, 1830, 1792, 2014, 2864, 2057, 2841, 198, 2911, 2104, 2897, 3022, 1788, 3118, 1130, 3607, 2618, 1799, 1382, 3635, 2875, 2456, 2669, 3019, 2916, 2813, 190, 2553, 2934, 2038, 2160, 1561, 2884, 67, 2927, 2901, 77, 2212, 2078, 3567, 2844, 1614, 2218, 3633, 2001, 1732, 163, 2935, 2678, 3253, 178, 1248, 1673, 2744, 2135, 2895, 2364, 2489, 2552, 2805, 2941, 3098, 1002, 1512, 2737, 942, 525, 2955, 1980, 2983, 1504, 2397, 2372, 2205, 3590, 2888, 2970, 2950, 2900, 1786, 373, 2820, 2186, 208, 2440, 2367, -238, 2702, 870, 1772, 76, 2332, 2496, 1498, 2986, 3146, 831, 1843, 2792, 3231, 3124, 1306, 2476, 2608, 2677, 514, 2107, 509, 135, 2351, 614, 1169, 2955, 2926, 1088, 2429, 2873, 3126, 2935, 2102, 2971, 2843, 2564, 2423, 25, 2041, 2820, 2829, 398, 3113, 1980, 1862, 2777, 2934, 2993, 2674, 3522, 815, 3807, 2948, 3739, 2472, 576, 2842, 2083, 714, 2182, 1788, 1254, 2943, 2949, 2710, 2925, 2851, 2713, 73, 2099, 999, 3321, 2705, 2940, 2777, 434, 2678, 2877, 1486, 990, 3269, 2936, 2417, 3745, 81, 268, 2830, 763, 2853, 1342, 2833, 2860, 2103, 3506, 2705, 1855, 1959, 2738, 1967, 2841, 273, 2918, 3102, 375, 2089, 2898, 3014, 2914, 2788, 2741, 3903, 2941, 2989, 1847, 1984, 65, 953, 1542, 3190, 2950, 354, 113, 2938, 2922, 2909, 1543, 955, 2500, 2902, 2585, 1343, 3098, 3047, 2668, 2855, 2927, 1178, 2970, 1738, 2405, 1148, 2070, 43, 2137, 2021, 2908, 2372, 1532, 2576, 2394, 2831, 510, 2835, 2941, 2265, 2709, 2991, 3008, 2838, 30, 2811, 1186, 2550, 2907, 2547, 2634, 2461, 1693, 3180, 2320, 3640, 3275, 2317, 2921, 2742, 2105, 2225, 2970, 2437, 756, 2559, -117, 862, -210, 2716, 2909, 2915, 2795, 2288, 2804, 3249, 78, 3160, 2944, 2517, 2096, -117, 1643, 2878, 2630, 2717, 2600, 3309, 2908, 2847, 796, 3294, 1949, 2010, 2977, 2220, 2993, 251, 2899, 2911, 3384, 2934, 1241, 3000, 2974, 1779, 3024, 467, 3553, 2496, 2245, 2415, 2568, 3230, 2754, 2989, 760, 2563, 1728, 3152, 2965, 2901, 2844, 2111, 2241, 129, 1112, 2922, 2006, 2908, 2875, 1936]\n"
     ]
    }
   ],
   "source": [
    "dates = list(df['created_at'])\n",
    "number_days =[]\n",
    "from datetime import datetime\n",
    "\n",
    "datetime_object = datetime.strptime('Jun 1 2005  1:33PM', '%b %d %Y %I:%M%p')\n",
    "\n",
    "for i in dates:\n",
    "    if i[0] == '\"':\n",
    "        i = i[1:-1]\n",
    "    if i[-1] == '\"':\n",
    "        i = i[:-1]\n",
    "    now = datetime.now()\n",
    "    a = str(i.split(\" \")[0])\n",
    "    s1 = \"\"\n",
    "    #print a\n",
    "    if(a.find('/',0,len(a))==-1):\n",
    "        #s1.append(a.split(' ')[1],a.split(' ')[2],a.split(' '))\n",
    "        d1 = datetime.strptime(i,'%a %b %d %H:%M:%S +0000 %Y')\n",
    "        delta = now - d1\n",
    "        #print delta.days\n",
    "        number_days.append(delta.days)\n",
    "    else:\n",
    "        try:\n",
    "            d2 = datetime.strptime(i,'%d/%m/%Y %H:%M')\n",
    "            delta = now - d2\n",
    "            #print delta.days\n",
    "        except ValueError:\n",
    "            d2 = datetime.strptime(i,'%m/%d/%Y %H:%M')\n",
    "            delta = now - d2\n",
    "            #print delta.days\n",
    "        number_days.append(delta.days)\n",
    "print number_days\n",
    "    #print i"
   ]
  },
  {
   "cell_type": "code",
   "execution_count": 81,
   "metadata": {
    "collapsed": false
   },
   "outputs": [],
   "source": [
    "df['number_days'] = number_days"
   ]
  },
  {
   "cell_type": "code",
   "execution_count": 82,
   "metadata": {
    "collapsed": false
   },
   "outputs": [],
   "source": [
    "desc = df['description']\n",
    "flag = []\n",
    "for i in desc:\n",
    "    i = str(i)\n",
    "    #print i\n",
    "    if i.find(\"bot\")==-1:\n",
    "        #print 0\n",
    "        flag.append(0)\n",
    "    else:\n",
    "        #print 1\n",
    "        flag.append(1)\n",
    "df['desc_contains_bot']=flag"
   ]
  },
  {
   "cell_type": "code",
   "execution_count": 83,
   "metadata": {
    "collapsed": false
   },
   "outputs": [
    {
     "data": {
      "text/plain": [
       "id                       float64\n",
       "id_str                    object\n",
       "screen_name               object\n",
       "location                  object\n",
       "description               object\n",
       "url                       object\n",
       "followers_count            int64\n",
       "friends_count              int64\n",
       "listedcount                int64\n",
       "created_at                object\n",
       "favourites_count           int64\n",
       "verified                    bool\n",
       "statuses_count             int64\n",
       "lang                      object\n",
       "status                    object\n",
       "default_profile             bool\n",
       "default_profile_image       bool\n",
       "has_extended_profile      object\n",
       "name                      object\n",
       "bot                        int64\n",
       "screen_length              int64\n",
       "name_length                int64\n",
       "number_days                int64\n",
       "desc_contains_bot          int64\n",
       "dtype: object"
      ]
     },
     "execution_count": 83,
     "metadata": {},
     "output_type": "execute_result"
    }
   ],
   "source": [
    "df.dtypes"
   ]
  },
  {
   "cell_type": "code",
   "execution_count": 136,
   "metadata": {
    "collapsed": true
   },
   "outputs": [],
   "source": [
    "final = df[['followers_count','friends_count','listedcount','favourites_count','verified','statuses_count','default_profile','default_profile_image','has_extended_profile','screen_length','name_length','number_days','desc_contains_bot','bot']]"
   ]
  },
  {
   "cell_type": "code",
   "execution_count": 137,
   "metadata": {
    "collapsed": false,
    "scrolled": true
   },
   "outputs": [
    {
     "name": "stdout",
     "output_type": "stream",
     "text": [
      "2232\n",
      "2154\n"
     ]
    }
   ],
   "source": [
    "print len(final)\n",
    "final= final.dropna()\n",
    "print len(final)\n",
    "y = final['bot']\n",
    "X = final[['followers_count','friends_count','listedcount','favourites_count','verified','statuses_count','default_profile','default_profile_image','has_extended_profile','screen_length','name_length','number_days','desc_contains_bot']]\n",
    "from sklearn.model_selection import train_test_split\n",
    "\n",
    "train_features, test_features, train_label, test_label = train_test_split( X, y, test_size=0.2)\n",
    "#train, test = train_test_split(df, test_size = 0.2)"
   ]
  },
  {
   "cell_type": "code",
   "execution_count": 147,
   "metadata": {
    "collapsed": false
   },
   "outputs": [
    {
     "name": "stdout",
     "output_type": "stream",
     "text": [
      "1723\n",
      "1723\n"
     ]
    }
   ],
   "source": [
    "print len(train_label)\n",
    "print len(train_features)"
   ]
  },
  {
   "cell_type": "code",
   "execution_count": 139,
   "metadata": {
    "collapsed": false
   },
   "outputs": [
    {
     "data": {
      "text/plain": [
       "431"
      ]
     },
     "execution_count": 139,
     "metadata": {},
     "output_type": "execute_result"
    }
   ],
   "source": [
    "len(test_features)"
   ]
  },
  {
   "cell_type": "code",
   "execution_count": 140,
   "metadata": {
    "collapsed": false
   },
   "outputs": [],
   "source": [
    "\n",
    "\n",
    "#train_label = train['bot']\n",
    "#train_label.head(10)\n",
    "\n"
   ]
  },
  {
   "cell_type": "code",
   "execution_count": 141,
   "metadata": {
    "collapsed": false
   },
   "outputs": [],
   "source": [
    "#train_features = train[['followers_count','friends_count','listedcount','favourites_count','verified','statuses_count','default_profile','default_profile_image','has_extended_profile','screen_length','name_length','number_days','desc_contains_bot']]"
   ]
  },
  {
   "cell_type": "code",
   "execution_count": 142,
   "metadata": {
    "collapsed": true
   },
   "outputs": [],
   "source": [
    "#test_label = test['bot']\n",
    "#test_features = test[['followers_count','friends_count','listedcount','favourites_count','verified','statuses_count','default_profile','default_profile_image','has_extended_profile','screen_length','name_length','number_days','desc_contains_bot']]"
   ]
  },
  {
   "cell_type": "code",
   "execution_count": 143,
   "metadata": {
    "collapsed": false
   },
   "outputs": [
    {
     "name": "stdout",
     "output_type": "stream",
     "text": [
      "0.633410672854\n"
     ]
    }
   ],
   "source": [
    "from sklearn.naive_bayes import GaussianNB\n",
    "clf = GaussianNB()\n",
    "clf.fit(train_features, train_label)\n",
    "pred = clf.predict(test_features)\n",
    "from sklearn.metrics import accuracy_score\n",
    "print accuracy_score(test_label,pred)"
   ]
  },
  {
   "cell_type": "code",
   "execution_count": 144,
   "metadata": {
    "collapsed": false
   },
   "outputs": [
    {
     "name": "stdout",
     "output_type": "stream",
     "text": [
      "0.860788863109\n"
     ]
    }
   ],
   "source": [
    "from sklearn import tree\n",
    "clf = tree.DecisionTreeClassifier()\n",
    "clf.fit(train_features, train_label)\n",
    "pred = clf.predict(test_features)\n",
    "from sklearn.metrics import accuracy_score\n",
    "print accuracy_score(test_label,pred)"
   ]
  },
  {
   "cell_type": "code",
   "execution_count": 145,
   "metadata": {
    "collapsed": false
   },
   "outputs": [
    {
     "name": "stdout",
     "output_type": "stream",
     "text": [
      "0.54524361949\n"
     ]
    }
   ],
   "source": [
    "from sklearn import svm\n",
    "clf = svm.SVC()\n",
    "clf.fit(train_features, train_label)\n",
    "pred = clf.predict(test_features)\n",
    "from sklearn.metrics import accuracy_score\n",
    "print accuracy_score(test_label,pred)\n"
   ]
  },
  {
   "cell_type": "code",
   "execution_count": 146,
   "metadata": {
    "collapsed": false
   },
   "outputs": [
    {
     "name": "stdout",
     "output_type": "stream",
     "text": [
      "0.921113689095\n"
     ]
    }
   ],
   "source": [
    "from sklearn.ensemble import RandomForestClassifier\n",
    "clf = RandomForestClassifier(n_estimators=1000)\n",
    "clf.fit(train_features, train_label)\n",
    "pred = clf.predict(test_features)\n",
    "from sklearn.metrics import accuracy_score\n",
    "print accuracy_score(test_label,pred)"
   ]
  },
  {
   "cell_type": "code",
   "execution_count": 123,
   "metadata": {
    "collapsed": false
   },
   "outputs": [
    {
     "name": "stdout",
     "output_type": "stream",
     "text": [
      "0.909512761021\n"
     ]
    }
   ],
   "source": [
    "from sklearn.ensemble import AdaBoostClassifier\n",
    "clf = AdaBoostClassifier(n_estimators=100)\n",
    "clf.fit(train_features, train_label)\n",
    "pred = clf.predict(test_features)\n",
    "from sklearn.metrics import accuracy_score\n",
    "print accuracy_score(test_label,pred)"
   ]
  },
  {
   "cell_type": "code",
   "execution_count": 124,
   "metadata": {
    "collapsed": false
   },
   "outputs": [
    {
     "name": "stdout",
     "output_type": "stream",
     "text": [
      "0.633410672854\n"
     ]
    }
   ],
   "source": [
    "from sklearn import linear_model, datasets\n",
    "logreg = linear_model.LogisticRegression(C=1e5)\n",
    "logreg.fit(train_features, train_label)\n",
    "pred = logreg.predict(test_features)\n",
    "from sklearn.metrics import accuracy_score\n",
    "print accuracy_score(test_label,pred)"
   ]
  },
  {
   "cell_type": "code",
   "execution_count": 125,
   "metadata": {
    "collapsed": false
   },
   "outputs": [
    {
     "name": "stdout",
     "output_type": "stream",
     "text": [
      "0.716937354988\n"
     ]
    }
   ],
   "source": [
    "from sklearn.neural_network import MLPClassifier\n",
    "clf = MLPClassifier(solver='lbfgs', alpha=1e-5, hidden_layer_sizes=(5, 2), random_state=1)\n",
    "clf.fit(train_features, train_label)\n",
    "pred = clf.predict(test_features)\n",
    "from sklearn.metrics import accuracy_score\n",
    "print accuracy_score(test_label,pred)"
   ]
  },
  {
   "cell_type": "code",
   "execution_count": null,
   "metadata": {
    "collapsed": true
   },
   "outputs": [],
   "source": [
    "from sklearn.model_selection import KFold\n",
    "kf = KFold(n_splits=5)"
   ]
  },
  {
   "cell_type": "code",
   "execution_count": null,
   "metadata": {
    "collapsed": true
   },
   "outputs": [],
   "source": []
  }
 ],
 "metadata": {
  "kernelspec": {
   "display_name": "Python 2",
   "language": "python",
   "name": "python2"
  },
  "language_info": {
   "codemirror_mode": {
    "name": "ipython",
    "version": 2
   },
   "file_extension": ".py",
   "mimetype": "text/x-python",
   "name": "python",
   "nbconvert_exporter": "python",
   "pygments_lexer": "ipython2",
   "version": "2.7.13"
  }
 },
 "nbformat": 4,
 "nbformat_minor": 2
}
