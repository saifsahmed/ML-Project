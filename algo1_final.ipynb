{
 "cells": [
  {
   "cell_type": "code",
   "execution_count": 28,
   "metadata": {
    "collapsed": true
   },
   "outputs": [],
   "source": [
    "import pandas as pd\n",
    "import numpy as np"
   ]
  },
  {
   "cell_type": "markdown",
   "metadata": {},
   "source": [
    "Creating an array of the column names "
   ]
  },
  {
   "cell_type": "code",
   "execution_count": 29,
   "metadata": {
    "collapsed": true
   },
   "outputs": [],
   "source": [
    "names = ['id', 'id_str','screen_name', 'location', 'description', 'url', 'followers_count', 'friends_count', 'listedcount','created_at','favourites_count','verified','statuses_count','lang','status','default_profile','default_profile_image','has_extended_profile','name','bot']"
   ]
  },
  {
   "cell_type": "markdown",
   "metadata": {},
   "source": [
    "Reading the bots and non bots data from the CSV files and combining them into one dataframe"
   ]
  },
  {
   "cell_type": "code",
   "execution_count": 30,
   "metadata": {
    "collapsed": false
   },
   "outputs": [],
   "source": [
    "df = pd.read_csv('training_data_2_csv_UTF.csv',header=None,names=names,na_values='?',skiprows=1)\n",
    "df_test = pd.read_csv('test_data_4_students.csv',header=None,names=names,na_values='?',skiprows=1)\n",
    "\n",
    "df_test = df_test[0:575]"
   ]
  },
  {
   "cell_type": "markdown",
   "metadata": {},
   "source": [
    "The codes that follow are used to extract certain features from the raw data obtained from the csv files."
   ]
  },
  {
   "cell_type": "markdown",
   "metadata": {},
   "source": [
    "The first feature that we are computing is the screen name length from the screen name column in the data"
   ]
  },
  {
   "cell_type": "code",
   "execution_count": 31,
   "metadata": {
    "collapsed": false
   },
   "outputs": [],
   "source": [
    "screen = list(df['screen_name'])\n",
    "screen_length = []\n",
    "for i in screen:\n",
    "    screen_length.append(len(i))\n",
    "df['screen_length'] = screen_length\n",
    "\n",
    "# This is done for the test data as well\n",
    "screen2 = list(df_test['screen_name'])\n",
    "screen_length2 = []\n",
    "for i in screen2:\n",
    "    screen_length2.append(len(i))\n",
    "df_test['screen_length'] = screen_length2"
   ]
  },
  {
   "cell_type": "markdown",
   "metadata": {},
   "source": [
    "The second feature we are computing is the profile name length from the name colum in the data "
   ]
  },
  {
   "cell_type": "code",
   "execution_count": 32,
   "metadata": {
    "collapsed": true
   },
   "outputs": [],
   "source": [
    "names = list(df['name'])\n",
    "name_length = []\n",
    "for i in names:\n",
    "    name_length.append(len(i))\n",
    "df['name_length'] = name_length\n",
    "\n",
    "# This is done for the test data as well\n",
    "names2 = list(df_test['name'])\n",
    "name_length2 = []\n",
    "for i in names2:\n",
    "    name_length2.append(len(i))\n",
    "df_test['name_length'] = name_length2"
   ]
  },
  {
   "cell_type": "markdown",
   "metadata": {},
   "source": [
    "The third feature we are computing is the days since the account was created. We do this by creating a datetime \n",
    "object from the dates present in the created at column. The data contains various formats of data thus we need to\n",
    "handle each seperately."
   ]
  },
  {
   "cell_type": "code",
   "execution_count": 33,
   "metadata": {
    "collapsed": false
   },
   "outputs": [],
   "source": [
    "created_at = list(df['created_at'])\n",
    "dates = list(df['created_at'])\n",
    "number_days =[]\n",
    "from datetime import datetime\n",
    "\n",
    "datetime_object = datetime.strptime('Jun 1 2005  1:33PM', '%b %d %Y %I:%M%p')\n",
    "\n",
    "for i in dates:\n",
    "    if i[0] == '\"':\n",
    "        i = i[1:-1]\n",
    "    if i[-1] == '\"':\n",
    "        i = i[:-1]\n",
    "    now = datetime.now()\n",
    "    a = str(i.split(\" \")[0])\n",
    "    s1 = \"\"\n",
    "    if(a.find('/',0,len(a))==-1):\n",
    "        d1 = datetime.strptime(i,'%a %b %d %H:%M:%S +0000 %Y')\n",
    "        delta = now - d1\n",
    "        number_days.append(delta.days)\n",
    "    else:\n",
    "        try:\n",
    "            d2 = datetime.strptime(i,'%d/%m/%Y %H:%M')\n",
    "            delta = now - d2\n",
    "        except ValueError:\n",
    "            d2 = datetime.strptime(i,'%m/%d/%Y %H:%M')\n",
    "            delta = now - d2\n",
    "        number_days.append(delta.days)\n",
    "df['number_days'] = number_days\n",
    "\n",
    "# This is done for the test data as well\n",
    "created_at = list(df_test['created_at'])\n",
    "dates = list(df_test['created_at'])\n",
    "number_days =[]\n",
    "from datetime import datetime\n",
    "\n",
    "datetime_object = datetime.strptime('Jun 1 2005  1:33PM', '%b %d %Y %I:%M%p')\n",
    "\n",
    "for i in dates:\n",
    "    if i[0] == '\"':\n",
    "        i = i[1:-1]\n",
    "    if i[-1] == '\"':\n",
    "        i = i[:-1]\n",
    "    now = datetime.now()\n",
    "    a = str(i.split(\" \")[0])\n",
    "    s1 = \"\"\n",
    "    if(a.find('/',0,len(a))==-1):\n",
    "        d1 = datetime.strptime(i,'%a %b %d %H:%M:%S +0000 %Y')\n",
    "        delta = now - d1\n",
    "        number_days.append(delta.days)\n",
    "    else:\n",
    "        try:\n",
    "            d2 = datetime.strptime(i,'%d/%m/%Y %H:%M')\n",
    "            delta = now - d2\n",
    "        except ValueError:\n",
    "            d2 = datetime.strptime(i,'%m/%d/%Y %H:%M')\n",
    "            delta = now - d2\n",
    "        number_days.append(delta.days)\n",
    "df_test['number_days'] = number_days"
   ]
  },
  {
   "cell_type": "markdown",
   "metadata": {},
   "source": [
    "The fourth feature we are computing is whether the account description contains the term \"bot\" in it. We store a value \n",
    "1 if the description contains the term bot and 0 otherwise"
   ]
  },
  {
   "cell_type": "code",
   "execution_count": 40,
   "metadata": {
    "collapsed": false
   },
   "outputs": [],
   "source": [
    "desc = df['description']\n",
    "flag = []\n",
    "for i in desc:\n",
    "    i = str(i)\n",
    "    #print i\n",
    "    if i.find(\"bot\")==-1:\n",
    "        #print 0\n",
    "        flag.append(0)\n",
    "    else:\n",
    "        #print 1\n",
    "        flag.append(1)\n",
    "df['desc_contains_bot']=flag\n",
    "\n",
    "# This is done for the test data as well\n",
    "\n",
    "desc = df_test['description']\n",
    "flag = []\n",
    "for i in desc:\n",
    "    i = str(i)\n",
    "    #print i\n",
    "    if i.find(\"bot\")==-1:\n",
    "        #print 0\n",
    "        flag.append(0)\n",
    "    else:\n",
    "        #print 1\n",
    "        flag.append(1)\n",
    "df_test['desc_contains_bot']=flag"
   ]
  },
  {
   "cell_type": "markdown",
   "metadata": {},
   "source": [
    "The final dataframe we create has all the features that we will use in the classification model. The schema of this dataframe is as follows "
   ]
  },
  {
   "cell_type": "code",
   "execution_count": 39,
   "metadata": {
    "collapsed": false
   },
   "outputs": [
    {
     "data": {
      "text/html": [
       "<div>\n",
       "<table border=\"1\" class=\"dataframe\">\n",
       "  <thead>\n",
       "    <tr style=\"text-align: right;\">\n",
       "      <th></th>\n",
       "      <th>followers_count</th>\n",
       "      <th>friends_count</th>\n",
       "      <th>listedcount</th>\n",
       "      <th>favourites_count</th>\n",
       "      <th>verified</th>\n",
       "      <th>statuses_count</th>\n",
       "      <th>default_profile</th>\n",
       "      <th>default_profile_image</th>\n",
       "      <th>has_extended_profile</th>\n",
       "      <th>screen_length</th>\n",
       "      <th>name_length</th>\n",
       "      <th>number_days</th>\n",
       "      <th>desc_contains_bot</th>\n",
       "      <th>bot</th>\n",
       "    </tr>\n",
       "  </thead>\n",
       "  <tbody>\n",
       "    <tr>\n",
       "      <th>0</th>\n",
       "      <td>1291</td>\n",
       "      <td>0</td>\n",
       "      <td>10</td>\n",
       "      <td>0</td>\n",
       "      <td>False</td>\n",
       "      <td>78554</td>\n",
       "      <td>True</td>\n",
       "      <td>False</td>\n",
       "      <td>False</td>\n",
       "      <td>16</td>\n",
       "      <td>21</td>\n",
       "      <td>126</td>\n",
       "      <td>0</td>\n",
       "      <td>1</td>\n",
       "    </tr>\n",
       "    <tr>\n",
       "      <th>1</th>\n",
       "      <td>1</td>\n",
       "      <td>349</td>\n",
       "      <td>0</td>\n",
       "      <td>38</td>\n",
       "      <td>False</td>\n",
       "      <td>31</td>\n",
       "      <td>True</td>\n",
       "      <td>False</td>\n",
       "      <td>False</td>\n",
       "      <td>9</td>\n",
       "      <td>11</td>\n",
       "      <td>491</td>\n",
       "      <td>0</td>\n",
       "      <td>1</td>\n",
       "    </tr>\n",
       "    <tr>\n",
       "      <th>2</th>\n",
       "      <td>1086</td>\n",
       "      <td>0</td>\n",
       "      <td>14</td>\n",
       "      <td>0</td>\n",
       "      <td>False</td>\n",
       "      <td>713</td>\n",
       "      <td>True</td>\n",
       "      <td>False</td>\n",
       "      <td>False</td>\n",
       "      <td>15</td>\n",
       "      <td>18</td>\n",
       "      <td>534</td>\n",
       "      <td>1</td>\n",
       "      <td>1</td>\n",
       "    </tr>\n",
       "    <tr>\n",
       "      <th>3</th>\n",
       "      <td>33</td>\n",
       "      <td>0</td>\n",
       "      <td>8</td>\n",
       "      <td>0</td>\n",
       "      <td>False</td>\n",
       "      <td>676</td>\n",
       "      <td>True</td>\n",
       "      <td>True</td>\n",
       "      <td>False</td>\n",
       "      <td>9</td>\n",
       "      <td>18</td>\n",
       "      <td>802</td>\n",
       "      <td>0</td>\n",
       "      <td>1</td>\n",
       "    </tr>\n",
       "    <tr>\n",
       "      <th>4</th>\n",
       "      <td>11</td>\n",
       "      <td>745</td>\n",
       "      <td>0</td>\n",
       "      <td>146</td>\n",
       "      <td>False</td>\n",
       "      <td>185</td>\n",
       "      <td>False</td>\n",
       "      <td>False</td>\n",
       "      <td>False</td>\n",
       "      <td>12</td>\n",
       "      <td>12</td>\n",
       "      <td>857</td>\n",
       "      <td>0</td>\n",
       "      <td>1</td>\n",
       "    </tr>\n",
       "  </tbody>\n",
       "</table>\n",
       "</div>"
      ],
      "text/plain": [
       "   followers_count  friends_count  listedcount  favourites_count verified  \\\n",
       "0             1291              0           10                 0    False   \n",
       "1                1            349            0                38    False   \n",
       "2             1086              0           14                 0    False   \n",
       "3               33              0            8                 0    False   \n",
       "4               11            745            0               146    False   \n",
       "\n",
       "   statuses_count default_profile default_profile_image has_extended_profile  \\\n",
       "0           78554            True                 False                False   \n",
       "1              31            True                 False                False   \n",
       "2             713            True                 False                False   \n",
       "3             676            True                  True                False   \n",
       "4             185           False                 False                False   \n",
       "\n",
       "   screen_length  name_length  number_days  desc_contains_bot  bot  \n",
       "0             16           21          126                  0    1  \n",
       "1              9           11          491                  0    1  \n",
       "2             15           18          534                  1    1  \n",
       "3              9           18          802                  0    1  \n",
       "4             12           12          857                  0    1  "
      ]
     },
     "execution_count": 39,
     "metadata": {},
     "output_type": "execute_result"
    }
   ],
   "source": [
    "final = df[['followers_count','friends_count','listedcount','favourites_count','verified','statuses_count','default_profile','default_profile_image','has_extended_profile','screen_length','name_length','number_days','desc_contains_bot','bot']]\n",
    "final_test = df_test[['followers_count','friends_count','listedcount','favourites_count','verified','statuses_count','default_profile','default_profile_image','has_extended_profile','screen_length','name_length','number_days','desc_contains_bot','bot']]\n",
    "\n",
    "final.head(5)"
   ]
  },
  {
   "cell_type": "markdown",
   "metadata": {},
   "source": [
    "We have cleaned the training and test data in this part of the code."
   ]
  },
  {
   "cell_type": "code",
   "execution_count": 41,
   "metadata": {
    "collapsed": false,
    "scrolled": true
   },
   "outputs": [],
   "source": [
    "final= final.dropna()\n",
    "y = final['bot']\n",
    "X = final[['followers_count','friends_count','listedcount','favourites_count','verified','statuses_count','default_profile','default_profile_image','has_extended_profile','screen_length','name_length','number_days','desc_contains_bot']]\n",
    "train_features = X\n",
    "train_label = y\n",
    "test_features = final_test[['followers_count','friends_count','listedcount','favourites_count','verified','statuses_count','default_profile','default_profile_image','has_extended_profile','screen_length','name_length','number_days','desc_contains_bot']]\n",
    "\n",
    "test_features['followers_count'].replace('None', 0, inplace=True)\n",
    "test_features['friends_count'].replace('None', 0, inplace=True)\n",
    "test_features['listedcount'].replace('None', 0, inplace=True)\n",
    "test_features['favourites_count'].replace('None', 0, inplace=True)\n",
    "test_features['statuses_count'].replace('None', 0, inplace=True)\n",
    "test_features['default_profile'].replace('None', False, inplace=True)\n",
    "test_features['default_profile_image'].replace('None', False, inplace=True)\n",
    "test_features['has_extended_profile'].replace('None', False, inplace=True)\n",
    "test_features['verified'].replace('None', False, inplace=True)\n",
    "\n",
    "test_features['default_profile'].replace('FALSE', False, inplace=True)\n",
    "test_features['default_profile_image'].replace('FALSE', False, inplace=True)\n",
    "test_features['has_extended_profile'].replace('FALSE', False, inplace=True)\n",
    "test_features['verified'].replace('FALSE', False, inplace=True)\n",
    "\n",
    "test_features['default_profile'].replace('TRUE', True, inplace=True)\n",
    "test_features['default_profile_image'].replace('TRUE', True, inplace=True)\n",
    "test_features['has_extended_profile'].replace('TRUE', True, inplace=True)\n",
    "test_features['verified'].replace('TRUE', True, inplace=True)\n",
    "\n",
    "train_features['default_profile'].replace('FALSE', False, inplace=True)\n",
    "train_features['default_profile_image'].replace('FALSE', False, inplace=True)\n",
    "train_features['has_extended_profile'].replace('FALSE', False, inplace=True)\n",
    "train_features['verified'].replace('FALSE', False, inplace=True)\n",
    "\n",
    "train_features['default_profile'].replace('TRUE', True, inplace=True)\n",
    "train_features['default_profile_image'].replace('TRUE', True, inplace=True)\n",
    "train_features['has_extended_profile'].replace('TRUE', True, inplace=True)\n",
    "train_features['verified'].replace('TRUE', True, inplace=True)\n"
   ]
  },
  {
   "cell_type": "raw",
   "metadata": {},
   "source": [
    "We have implemented RandomForestClassifier with the best features "
   ]
  },
  {
   "cell_type": "code",
   "execution_count": 43,
   "metadata": {
    "collapsed": false
   },
   "outputs": [
    {
     "name": "stdout",
     "output_type": "stream",
     "text": [
      "id     int64\n",
      "bot    int64\n",
      "dtype: object\n",
      "                   id  bot\n",
      "0          2281292622    0\n",
      "1          2344040251    1\n",
      "2           765871267    0\n",
      "3          4772373433    0\n",
      "4          1324548560    1\n",
      "5          2561341789    1\n",
      "6           347810134    1\n",
      "7           856303860    1\n",
      "8  832875000000000000    1\n",
      "9            88856792    0\n"
     ]
    }
   ],
   "source": [
    "from sklearn.ensemble import RandomForestClassifier\n",
    "clf = RandomForestClassifier(n_estimators=50,max_features= 'sqrt',max_depth=20)\n",
    "clf.fit(train_features, train_label)\n",
    "pred = clf.predict(test_features)\n",
    "\n",
    "\n",
    "df_print = pd.DataFrame()\n",
    "df_print['id'] = df_test['id']\n",
    "df_print['bot'] = pred4\n",
    "df_print['id'] = df_print['id'].astype(int)\n",
    "df_print.to_csv('output_final1.csv',index = False)\n",
    "print df_print.dtypes\n",
    "print df_print.head(10)"
   ]
  },
  {
   "cell_type": "markdown",
   "metadata": {},
   "source": [
    "Implementing the Voting Classifier with DecisionTree, RandomForest and AdaBoost"
   ]
  },
  {
   "cell_type": "code",
   "execution_count": 46,
   "metadata": {
    "collapsed": false
   },
   "outputs": [
    {
     "name": "stdout",
     "output_type": "stream",
     "text": [
      "id     int64\n",
      "bot    int64\n",
      "dtype: object\n",
      "                   id  bot\n",
      "0          2281292622    0\n",
      "1          2344040251    0\n",
      "2           765871267    0\n",
      "3          4772373433    0\n",
      "4          1324548560    1\n",
      "5          2561341789    1\n",
      "6           347810134    1\n",
      "7           856303860    1\n",
      "8  832875000000000000    1\n",
      "9            88856792    0\n"
     ]
    }
   ],
   "source": [
    "col_names2_dt = ['followers_count','friends_count','listedcount','favourites_count','verified','statuses_count','default_profile','default_profile_image','has_extended_profile']\n",
    "col_names2_rf = ['followers_count','friends_count','listedcount','favourites_count','verified','statuses_count','default_profile','default_profile_image','has_extended_profile','screen_length','name_length','number_days','desc_contains_bot']\n",
    "col_names2_ad = ['followers_count','friends_count','listedcount','favourites_count','verified','statuses_count','default_profile','default_profile_image','has_extended_profile','screen_length','name_length','number_days','desc_contains_bot']\n",
    "\n",
    "train_features_dt = train_features[col_names2_dt]\n",
    "test_features_dt = test_features[col_names2_dt]\n",
    "\n",
    "from sklearn import tree\n",
    "clf1 = tree.DecisionTreeClassifier(min_samples_split=10, criterion='entropy', max_depth= 6)\n",
    "clf1.fit(train_features_dt, train_label)\n",
    "pred1 = clf1.predict(test_features_dt)\n",
    "\n",
    "\n",
    "train_features_rf = train_features[col_names2_rf]\n",
    "test_features_rf = test_features[col_names2_rf]\n",
    "from sklearn.ensemble import RandomForestClassifier\n",
    "clf2 = RandomForestClassifier(n_estimators=50)\n",
    "clf2.fit(train_features_rf, train_label)\n",
    "pred2 = clf2.predict(test_features_rf)\n",
    "\n",
    "\n",
    "train_features_ad = train_features[col_names2_ad]\n",
    "test_features_ad = test_features[col_names2_ad]\n",
    "from sklearn.ensemble import AdaBoostClassifier\n",
    "from sklearn.tree import DecisionTreeClassifier\n",
    "DTC = DecisionTreeClassifier(min_samples_split=10, criterion='entropy', max_depth= 6)\n",
    "clf3 = AdaBoostClassifier(n_estimators=500, base_estimator = DTC)\n",
    "clf3.fit(train_features_ad, train_label)\n",
    "pred3 = clf3.predict(test_features_ad)\n",
    "\n",
    "from sklearn.ensemble import VotingClassifier\n",
    "\n",
    "eclf1 = VotingClassifier(estimators=[('rf', clf1), ('ad', clf2), ('dt', clf3)], voting='hard',weights=[1,1,1])\n",
    "eclf1.fit(train_features, train_label)\n",
    "pred4 = eclf1.predict(test_features)\n",
    "    \n",
    "df_print = pd.DataFrame()\n",
    "df_print['id'] = df_test['id']\n",
    "df_print['bot'] = pred4\n",
    "df_print['id'] = df_print['id'].astype(int)\n",
    "df_print.to_csv('output_final_2.csv',index = False)\n",
    "print df_print.dtypes\n",
    "print df_print.head(10)"
   ]
  },
  {
   "cell_type": "markdown",
   "metadata": {},
   "source": [
    "Here we are trying to gauge which parameters of the model give us the best results in terms of accuracy. We used grid search method from sklearn to do this. By specifying the range of parameters of the model grid search creates all permutations of parameters for this model and returns us the set of parameters which give the best results"
   ]
  },
  {
   "cell_type": "code",
   "execution_count": null,
   "metadata": {
    "collapsed": false
   },
   "outputs": [
    {
     "name": "stderr",
     "output_type": "stream",
     "text": [
      "/Users/rudhikakawar/anaconda/lib/python2.7/site-packages/sklearn/cross_validation.py:44: DeprecationWarning: This module was deprecated in version 0.18 in favor of the model_selection module into which all the refactored classes and functions are moved. Also note that the interface of the new CV iterators are different from that of this module. This module will be removed in 0.20.\n",
      "  \"This module will be removed in 0.20.\", DeprecationWarning)\n",
      "/Users/rudhikakawar/anaconda/lib/python2.7/site-packages/sklearn/grid_search.py:43: DeprecationWarning: This module was deprecated in version 0.18 in favor of the model_selection module into which all the refactored classes and functions are moved. This module will be removed in 0.20.\n",
      "  DeprecationWarning)\n"
     ]
    }
   ],
   "source": [
    "param_grid = {'max_depth' : [None, 10,20,30,40,50],\n",
    "              'n_estimators' :[10,50,100,200,300,400,500,600,700,800,900,1000],\n",
    "              'max_features' : ['auto','sqrt','log2',0.4,0.8,0.2],\n",
    "            }\n",
    "from sklearn import grid_search\n",
    "from sklearn.ensemble import RandomForestClassifier\n",
    "forest = RandomForestClassifier()\n",
    "clf = grid_search.GridSearchCV(forest, param_grid)\n",
    "clf.fit(train_features, train_label)\n",
    "print clf.best_params_"
   ]
  },
  {
   "cell_type": "code",
   "execution_count": null,
   "metadata": {
    "collapsed": true
   },
   "outputs": [],
   "source": [
    "param_grid = {\"base_estimator__criterion\" : [\"gini\", \"entropy\"],\n",
    "              \"base_estimator__splitter\" :   [\"best\", \"random\"],\n",
    "              \"n_estimators\": [10, 20, 30, 40, 50, 100, 150, 200, 300, 400, 500]\n",
    "             }\n",
    "from sklearn import grid_search\n",
    "from sklearn.ensemble import AdaBoostClassifier\n",
    "from sklearn.tree import DecisionTreeClassifier\n",
    "DTC = DecisionTreeClassifier(min_samples_split=10, criterion='entropy', max_depth= 6)\n",
    "\n",
    "ABC = AdaBoostClassifier(base_estimator = DTC)\n",
    "clf = grid_search.GridSearchCV(ABC, param_grid=param_grid, scoring = 'roc_auc')\n",
    "clf.fit(train_features, train_label)\n",
    "print clf.best_params_"
   ]
  }
 ],
 "metadata": {
  "kernelspec": {
   "display_name": "Python 2",
   "language": "python",
   "name": "python2"
  },
  "language_info": {
   "codemirror_mode": {
    "name": "ipython",
    "version": 2
   },
   "file_extension": ".py",
   "mimetype": "text/x-python",
   "name": "python",
   "nbconvert_exporter": "python",
   "pygments_lexer": "ipython2",
   "version": "2.7.13"
  }
 },
 "nbformat": 4,
 "nbformat_minor": 2
}
